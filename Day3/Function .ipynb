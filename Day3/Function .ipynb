{
 "cells": [
  {
   "cell_type": "markdown",
   "metadata": {},
   "source": [
    "# Functions in Python\n",
    "\n",
    "A function is a set of statements that take inputs, do some specific computation and produces output. The idea is to put some commonly or repeatedly done task together and make a function, so that instead of writing the same code again and again for different inputs, we can call the function.\n",
    "Python provides built-in functions like print(), etc. but we can also create your own functions. These functions are called user-defined functions.\n",
    "\n"
   ]
  },
  {
   "cell_type": "code",
   "execution_count": 14,
   "metadata": {},
   "outputs": [
    {
     "name": "stdout",
     "output_type": "stream",
     "text": [
      "even\n",
      "odd\n"
     ]
    }
   ],
   "source": [
    "# A simple Python function to check \n",
    "# whether x is even or odd \n",
    "def evenOdd( x ): \n",
    "    if (x % 2 == 0): \n",
    "        print (\"even\")\n",
    "    else: \n",
    "        print (\"odd\")\n",
    "  \n",
    "# Driver code \n",
    "evenOdd(2) \n",
    "evenOdd(3) "
   ]
  },
  {
   "cell_type": "markdown",
   "metadata": {},
   "source": [
    "### Pass by Reference or pass by value?\n",
    "\n",
    "One important thing to note is, in Python every variable name is a reference. When we pass a variable to a function, a new reference to the object is created. Parameter passing in Python is same as reference passing in Java."
   ]
  },
  {
   "cell_type": "code",
   "execution_count": 15,
   "metadata": {},
   "outputs": [
    {
     "name": "stdout",
     "output_type": "stream",
     "text": [
      "[20, 11, 12, 13, 14, 15]\n"
     ]
    }
   ],
   "source": [
    "# Here x is a new reference to same list lst \n",
    "def myFun(x): \n",
    "   x[0] = 20\n",
    "  \n",
    "# Driver Code (Note that lst is modified \n",
    "# after function call. \n",
    "lst = [10, 11, 12, 13, 14, 15]  \n",
    "myFun(lst); \n",
    "print(lst)  "
   ]
  },
  {
   "cell_type": "markdown",
   "metadata": {},
   "source": [
    "When we pass a reference and change the received reference to something else, the connection between passed and received parameter is broken. For example, consider below program.\n",
    "\n",
    "\n"
   ]
  },
  {
   "cell_type": "code",
   "execution_count": 16,
   "metadata": {},
   "outputs": [
    {
     "name": "stdout",
     "output_type": "stream",
     "text": [
      "[10, 11, 12, 13, 14, 15]\n"
     ]
    }
   ],
   "source": [
    "def myFun(x): \n",
    "  \n",
    "   # After below line link of x with previous \n",
    "   # object gets broken. A new object is assigned \n",
    "   # to x. \n",
    "   x = [20, 30, 40] \n",
    "  \n",
    "# Driver Code (Note that lst is not modified \n",
    "# after function call. \n",
    "lst = [10, 11, 12, 13, 14, 15]  \n",
    "myFun(lst); \n",
    "print(lst)  "
   ]
  },
  {
   "cell_type": "code",
   "execution_count": 17,
   "metadata": {},
   "outputs": [
    {
     "name": "stdout",
     "output_type": "stream",
     "text": [
      "10\n"
     ]
    }
   ],
   "source": [
    "# Another example to demonstrate that reference link is broken if we assign a new value (inside the function).\n",
    "\n",
    "def myFun(x): \n",
    "  \n",
    "   # After below line link of x with previous \n",
    "   # object gets broken. A new object is assigned \n",
    "   # to x. \n",
    "   x = 20\n",
    "  \n",
    "# Driver Code (Note that lst is not modified \n",
    "# after function call. \n",
    "x = 10 \n",
    "myFun(x); \n",
    "print(x)  "
   ]
  },
  {
   "cell_type": "markdown",
   "metadata": {},
   "source": [
    "### Default arguments:\n",
    "A default argument is a parameter that assumes a default value if a value is not provided in the function call for that argument.The following example illustrates Default arguments.\n",
    "\n"
   ]
  },
  {
   "cell_type": "code",
   "execution_count": 19,
   "metadata": {},
   "outputs": [
    {
     "name": "stdout",
     "output_type": "stream",
     "text": [
      "x:  10\n",
      "y:  50\n"
     ]
    }
   ],
   "source": [
    "\n",
    "# Python program to demonstrate \n",
    "# default arguments \n",
    "def myFun(x, y=50): \n",
    "    print(\"x: \", x) \n",
    "    print(\"y: \", y) \n",
    "  \n",
    "# Driver code (We call myFun() with only \n",
    "# argument) \n",
    "myFun(10) "
   ]
  },
  {
   "cell_type": "code",
   "execution_count": null,
   "metadata": {},
   "outputs": [],
   "source": []
  }
 ],
 "metadata": {
  "kernelspec": {
   "display_name": "Python 3",
   "language": "python",
   "name": "python3"
  },
  "language_info": {
   "codemirror_mode": {
    "name": "ipython",
    "version": 3
   },
   "file_extension": ".py",
   "mimetype": "text/x-python",
   "name": "python",
   "nbconvert_exporter": "python",
   "pygments_lexer": "ipython3",
   "version": "3.7.6"
  }
 },
 "nbformat": 4,
 "nbformat_minor": 4
}
