{
 "cells": [
  {
   "cell_type": "markdown",
   "metadata": {},
   "source": [
    "# Object Oriented Programming\n",
    "\n",
    "After going through the basics of python, you would be interested to know more about further and bit more advance topics of the Python3 programming language.\n",
    "This article covers them.\n",
    "Please remember that Python completely works on indentation and it is advised to practice it a bit by running some programs. Use the tab key to provide indentation to your code"
   ]
  },
  {
   "cell_type": "markdown",
   "metadata": {},
   "source": [
    "### Classes\n",
    "Just like every other Object Oriented Programming language Python supports classes. Let’s look at some points on Python classes.\n",
    "<ul>\n",
    "    <li>Classes are created by keyword class.</li>\n",
    "    <li>Attributes are the variables that belong to class.</li>\n",
    "<li>Attributes are always public and can be accessed using dot (.) operator. Eg.: Myclass.Myattribute</li>\n",
    "    </ul>\n",
    "A sample E.g for classes:"
   ]
  },
  {
   "cell_type": "code",
   "execution_count": 1,
   "metadata": {},
   "outputs": [
    {
     "name": "stdout",
     "output_type": "stream",
     "text": [
      "Harssh 1337\n"
     ]
    }
   ],
   "source": [
    "# creates a class named MyClass \n",
    "class MyClass:   \n",
    "        # assign the values to the MyClass attributes \n",
    "        number = 0       \n",
    "        name = \"noname\"\n",
    "  \n",
    "def Main(): \n",
    "        # Creating an object of the MyClass.  \n",
    "        # Here, 'me' is the object \n",
    "        me = MyClass()  \n",
    "  \n",
    "        # Accessing the attributes of MyClass \n",
    "        # using the dot(.) operator    \n",
    "        me.number = 1337    \n",
    "        me.name = \"Harssh\"\n",
    "  \n",
    "        # str is an build-in function that  \n",
    "        # creates an string \n",
    "        print(me.name + \" \" + str(me.number)) \n",
    "     \n",
    "# telling python that there is main in the program. \n",
    "if __name__=='__main__':   \n",
    "        Main() "
   ]
  },
  {
   "cell_type": "markdown",
   "metadata": {},
   "source": [
    "### Methods\n",
    "Method is a bunch of code that is intended to perform a particular task in your Python’s code.\n",
    "<ul>\n",
    "<li>Function that belongs to a class is called an Method.</li>\n",
    "<li>All methods require ‘self’ parameter. If you have coded in other OOP language you can think of ‘self’ as the ‘this’ keyword which is used for the current object. It unhides the current instance variable.’self’ mostly work like ‘this’.</li>\n",
    "    <li>‘def’ keyword is used to create a new method.</li>\n",
    "    </ul>"
   ]
  },
  {
   "cell_type": "code",
   "execution_count": 2,
   "metadata": {},
   "outputs": [
    {
     "name": "stdout",
     "output_type": "stream",
     "text": [
      "X: 5, Y: 6\n"
     ]
    }
   ],
   "source": [
    "# A Python program to demonstrate working of class \n",
    "# methods \n",
    "  \n",
    "class Vector2D: \n",
    "        x = 0.0\n",
    "        y = 0.0\n",
    "  \n",
    "        # Creating a method named Set \n",
    "        def Set(self, x, y):      \n",
    "                self.x = x \n",
    "                self.y = y \n",
    "  \n",
    "def Main(): \n",
    "        # vec is an object of class Vector2D \n",
    "        vec = Vector2D()    \n",
    "         \n",
    "        # Passing values to the function Set \n",
    "        # by using dot(.) operator. \n",
    "        vec.Set(5, 6)        \n",
    "        print(\"X: \" + str(vec.x) + \", Y: \" + str(vec.y)) \n",
    "  \n",
    "if __name__=='__main__': \n",
    "        Main() "
   ]
  },
  {
   "cell_type": "markdown",
   "metadata": {},
   "source": [
    "### Inheritance\n",
    "Inheritance is defined as a way in which a particular class inherits features from its base class.Base class is also knows as ‘Superclass’ and the class which inherits from the Superclass is knows as ‘Subclass’"
   ]
  },
  {
   "cell_type": "code",
   "execution_count": 3,
   "metadata": {},
   "outputs": [
    {
     "name": "stdout",
     "output_type": "stream",
     "text": [
      "Is jess a cat? True\n",
      "Is jess a pet? True\n",
      "Is the pet a cat? False\n",
      "Is thePet a Pet? True\n",
      "Jess\n"
     ]
    }
   ],
   "source": [
    "# A Python program to demonstrate working of inheritance \n",
    "class Pet: \n",
    "        #__init__ is an constructor in Python \n",
    "        def __init__(self, name, age):      \n",
    "                self.name = name \n",
    "                self.age = age \n",
    "  \n",
    "# Class Cat inheriting from the class Pet \n",
    "class Cat(Pet):          \n",
    "        def __init__(self, name, age): \n",
    "                # calling the super-class function __init__  \n",
    "                # using the super() function \n",
    "                super().__init__(name, age)  \n",
    "  \n",
    "def Main(): \n",
    "        thePet = Pet(\"Pet\", 1) \n",
    "        jess = Cat(\"Jess\", 3) \n",
    "          \n",
    "        # isinstance() function to check whether a class is  \n",
    "        # inherited from another class \n",
    "        print(\"Is jess a cat? \" +str(isinstance(jess, Cat))) \n",
    "        print(\"Is jess a pet? \" +str(isinstance(jess, Pet))) \n",
    "        print(\"Is the pet a cat? \"+str(isinstance(thePet, Cat))) \n",
    "        print(\"Is thePet a Pet? \" +str(isinstance(thePet, Pet))) \n",
    "        print(jess.name) \n",
    "  \n",
    "if __name__=='__main__': \n",
    "        Main() "
   ]
  },
  {
   "cell_type": "markdown",
   "metadata": {},
   "source": [
    "### Iterators\n",
    "Iterators are objects that can be iterated upon.\n",
    "<ul>\n",
    "    <li>Python uses the __iter__() method to return an iterator object of the class.</li>\n",
    "    <li>The iterator object then uses the __next__() method to get the next item.</li>\n",
    "    <li>for loops stops when StopIteration Exception is raised.</li>\n",
    "    \n",
    "</ul>    "
   ]
  },
  {
   "cell_type": "code",
   "execution_count": 4,
   "metadata": {},
   "outputs": [
    {
     "name": "stdout",
     "output_type": "stream",
     "text": [
      "e\n",
      "l\n",
      "c\n",
      "i\n",
      "s\n",
      "p\n",
      "a\n",
      "r\n",
      "D\n"
     ]
    }
   ],
   "source": [
    "# This program will reverse the string that is passed \n",
    "# to it from the main function \n",
    "class Reverse: \n",
    "    def __init__(self, data): \n",
    "        self.data = data \n",
    "        self.index = len(data)         \n",
    "  \n",
    "    def __iter__(self): \n",
    "        return self\n",
    "      \n",
    "    def __next__(self): \n",
    "        if self.index == 0: \n",
    "            raise StopIteration     \n",
    "        self.index-= 1\n",
    "        return self.data[self.index] \n",
    "  \n",
    "def Main(): \n",
    "    rev = Reverse('Drapsicle') \n",
    "    for char in rev: \n",
    "        print(char) \n",
    "  \n",
    "if __name__=='__main__': \n",
    "    Main() "
   ]
  },
  {
   "cell_type": "markdown",
   "metadata": {},
   "source": [
    "### Generators\n",
    "<ul>\n",
    "    <li>Another way of creating iterators.</li>\n",
    "<li>Uses a function rather than a separate class</li>\n",
    "<li>Generates the background code for the next() and iter() methods</li>\n",
    "<li>Uses a special statement called yield which saves the state of the generator and set a resume point for when next() is called again</li>"
   ]
  },
  {
   "cell_type": "code",
   "execution_count": 5,
   "metadata": {},
   "outputs": [
    {
     "name": "stdout",
     "output_type": "stream",
     "text": [
      "h\n",
      "s\n",
      "s\n",
      "r\n",
      "a\n",
      "H\n",
      "['h', 's', 's', 'r', 'a', 'H']\n"
     ]
    }
   ],
   "source": [
    "# A Python program to demonstrate working of Generators \n",
    "def Reverse(data): \n",
    "    # this is like counting from 100 to 1 by taking one(-1)  \n",
    "    # step backward. \n",
    "    for index in range(len(data)-1, -1, -1): \n",
    "        yield data[index] \n",
    "  \n",
    "def Main(): \n",
    "    rev = Reverse('Harssh') \n",
    "    for char in rev: \n",
    "        print(char) \n",
    "    data ='Harssh'\n",
    "    print(list(data[i] for i in range(len(data)-1, -1, -1))) \n",
    "  \n",
    "if __name__==\"__main__\": \n",
    "    Main() "
   ]
  },
  {
   "cell_type": "code",
   "execution_count": null,
   "metadata": {},
   "outputs": [],
   "source": []
  }
 ],
 "metadata": {
  "kernelspec": {
   "display_name": "Python 3",
   "language": "python",
   "name": "python3"
  },
  "language_info": {
   "codemirror_mode": {
    "name": "ipython",
    "version": 3
   },
   "file_extension": ".py",
   "mimetype": "text/x-python",
   "name": "python",
   "nbconvert_exporter": "python",
   "pygments_lexer": "ipython3",
   "version": "3.7.6"
  }
 },
 "nbformat": 4,
 "nbformat_minor": 4
}
