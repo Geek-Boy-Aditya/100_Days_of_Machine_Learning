{
 "cells": [
  {
   "cell_type": "markdown",
   "metadata": {},
   "source": [
    "# Working on Lists "
   ]
  },
  {
   "cell_type": "markdown",
   "metadata": {},
   "source": [
    "Lists are just like dynamic sized arrays, declared in other languages (vector in C++ and ArrayList in Java). Lists need not be homogeneous always which makes it a most powerful tool in Python. A single list may contain DataTypes like Integers, Strings, as well as Objects. Lists are mutable, and hence, they can be altered even after their creation.\n",
    "\n",
    "List in Python are ordered and have a definite count. The elements in a list are indexed according to a definite sequence and the indexing of a list is done with 0 being the first index. Each element in the list has its definite place in the list, which allows duplicating of elements in the list, with each element having its own distinct place and credibility.\n",
    "\n",
    "Note- Lists are a useful tool for preserving a sequence of data and further iterating over it."
   ]
  },
  {
   "cell_type": "markdown",
   "metadata": {},
   "source": [
    "# Creating a List"
   ]
  },
  {
   "cell_type": "markdown",
   "metadata": {},
   "source": [
    "Lists in Python can be created by just placing the sequence inside the square brackets[]. Unlike Sets, list doesn’t need a built-in function for creation of list."
   ]
  },
  {
   "cell_type": "code",
   "execution_count": 1,
   "metadata": {},
   "outputs": [
    {
     "name": "stdout",
     "output_type": "stream",
     "text": [
      "Blank List: \n",
      "[]\n"
     ]
    }
   ],
   "source": [
    "# Python program to demonstrate  \n",
    "# Creation of List  \n",
    "  \n",
    "# Creating a List \n",
    "List = [] \n",
    "print(\"Blank List: \") \n",
    "print(List) "
   ]
  },
  {
   "cell_type": "code",
   "execution_count": 2,
   "metadata": {},
   "outputs": [
    {
     "name": "stdout",
     "output_type": "stream",
     "text": [
      "\n",
      "List of numbers: \n",
      "[10, 20, 14]\n"
     ]
    }
   ],
   "source": [
    "# Creating a List of numbers \n",
    "List = [10, 20, 14] \n",
    "print(\"\\nList of numbers: \") \n",
    "print(List) "
   ]
  },
  {
   "cell_type": "code",
   "execution_count": 3,
   "metadata": {},
   "outputs": [
    {
     "name": "stdout",
     "output_type": "stream",
     "text": [
      "\n",
      "List Items: \n",
      "Geeks\n",
      "Geeks\n"
     ]
    }
   ],
   "source": [
    "# Creating a List of strings and accessing \n",
    "# using index \n",
    "List = [\"Geeks\", \"For\", \"Geeks\"] \n",
    "print(\"\\nList Items: \") \n",
    "print(List[0])  \n",
    "print(List[2]) "
   ]
  },
  {
   "cell_type": "code",
   "execution_count": 4,
   "metadata": {},
   "outputs": [
    {
     "name": "stdout",
     "output_type": "stream",
     "text": [
      "\n",
      "Multi-Dimensional List: \n",
      "[['Geeks', 'For'], ['Geeks']]\n"
     ]
    }
   ],
   "source": [
    "# Creating a Multi-Dimensional List \n",
    "# (By Nesting a list inside a List) \n",
    "List = [['Geeks', 'For'] , ['Geeks']] \n",
    "print(\"\\nMulti-Dimensional List: \") \n",
    "print(List) "
   ]
  },
  {
   "cell_type": "markdown",
   "metadata": {},
   "source": [
    "Creating a list with multiple distinct or duplicate elements\n",
    "\n",
    "A list may contain duplicate values with their distinct positions and hence, multiple distinct or duplicate values can be passed as a sequence at the time of list creation."
   ]
  },
  {
   "cell_type": "code",
   "execution_count": 5,
   "metadata": {},
   "outputs": [
    {
     "name": "stdout",
     "output_type": "stream",
     "text": [
      "\n",
      "List with the use of Numbers: \n",
      "[1, 2, 4, 4, 3, 3, 3, 6, 5]\n"
     ]
    }
   ],
   "source": [
    "# Creating a List with  \n",
    "# the use of Numbers \n",
    "# (Having duplicate values) \n",
    "List = [1, 2, 4, 4, 3, 3, 3, 6, 5] \n",
    "print(\"\\nList with the use of Numbers: \") \n",
    "print(List) "
   ]
  },
  {
   "cell_type": "code",
   "execution_count": 6,
   "metadata": {},
   "outputs": [
    {
     "name": "stdout",
     "output_type": "stream",
     "text": [
      "\n",
      "List with the use of Mixed Values: \n",
      "[1, 2, 'Geeks', 4, 'For', 6, 'Geeks']\n"
     ]
    }
   ],
   "source": [
    "# Creating a List with  \n",
    "# mixed type of values \n",
    "# (Having numbers and strings) \n",
    "List = [1, 2, 'Geeks', 4, 'For', 6, 'Geeks'] \n",
    "print(\"\\nList with the use of Mixed Values: \") \n",
    "print(List) "
   ]
  },
  {
   "cell_type": "code",
   "execution_count": 7,
   "metadata": {},
   "outputs": [
    {
     "name": "stdout",
     "output_type": "stream",
     "text": [
      "0\n",
      "3\n"
     ]
    }
   ],
   "source": [
    "# Knowing the size of List\n",
    "\n",
    "# Creating a List \n",
    "List1 = [] \n",
    "print(len(List1)) \n",
    "  \n",
    "# Creating a List of numbers \n",
    "List2 = [10, 20, 14] \n",
    "print(len(List2)) "
   ]
  },
  {
   "cell_type": "markdown",
   "metadata": {},
   "source": [
    "# Adding Elements to a List"
   ]
  },
  {
   "cell_type": "markdown",
   "metadata": {},
   "source": [
    "Elements can be added to the List by using built-in append() function. Only one element at a time can be added to the list by using append() method, for addition of multiple elements with the append() method, loops are used. Tuples can also be added to the List with the use of append method because tuples are immutable. Unlike Sets, Lists can also be added to the existing list with the use of append() method.\n",
    "\n"
   ]
  },
  {
   "cell_type": "code",
   "execution_count": 8,
   "metadata": {},
   "outputs": [
    {
     "name": "stdout",
     "output_type": "stream",
     "text": [
      "Initial blank List: \n",
      "[]\n"
     ]
    }
   ],
   "source": [
    "# Python program to demonstrate  \n",
    "# Addition of elements in a List \n",
    "  \n",
    "# Creating a List \n",
    "List = [] \n",
    "print(\"Initial blank List: \") \n",
    "print(List) \n",
    "  "
   ]
  },
  {
   "cell_type": "code",
   "execution_count": 9,
   "metadata": {},
   "outputs": [
    {
     "name": "stdout",
     "output_type": "stream",
     "text": [
      "\n",
      "List after Addition of Three elements: \n",
      "[1, 2, 4]\n"
     ]
    }
   ],
   "source": [
    "# Addition of Elements  \n",
    "# in the List \n",
    "List.append(1) \n",
    "List.append(2) \n",
    "List.append(4) \n",
    "print(\"\\nList after Addition of Three elements: \") \n",
    "print(List) "
   ]
  },
  {
   "cell_type": "code",
   "execution_count": 10,
   "metadata": {},
   "outputs": [
    {
     "name": "stdout",
     "output_type": "stream",
     "text": [
      "\n",
      "List after Addition of elements from 1-3: \n",
      "[1, 2, 4, 1, 2, 3]\n"
     ]
    }
   ],
   "source": [
    "# Adding elements to the List \n",
    "# using Iterator \n",
    "for i in range(1, 4): \n",
    "    List.append(i) \n",
    "print(\"\\nList after Addition of elements from 1-3: \") \n",
    "print(List) "
   ]
  },
  {
   "cell_type": "code",
   "execution_count": 11,
   "metadata": {},
   "outputs": [
    {
     "name": "stdout",
     "output_type": "stream",
     "text": [
      "\n",
      "List after Addition of a Tuple: \n",
      "[1, 2, 4, 1, 2, 3, (5, 6)]\n"
     ]
    }
   ],
   "source": [
    "# Adding Tuples to the List \n",
    "List.append((5, 6)) \n",
    "print(\"\\nList after Addition of a Tuple: \") \n",
    "print(List) "
   ]
  },
  {
   "cell_type": "code",
   "execution_count": 12,
   "metadata": {},
   "outputs": [
    {
     "name": "stdout",
     "output_type": "stream",
     "text": [
      "\n",
      "List after Addition of a List: \n",
      "[1, 2, 4, 1, 2, 3, (5, 6), ['For', 'Geeks']]\n"
     ]
    }
   ],
   "source": [
    "# Addition of List to a List \n",
    "List2 = ['For', 'Geeks'] \n",
    "List.append(List2) \n",
    "print(\"\\nList after Addition of a List: \") \n",
    "print(List)"
   ]
  },
  {
   "cell_type": "markdown",
   "metadata": {},
   "source": [
    "Using insert() method\n",
    "\n",
    "append() method only works for addition of elements at the end of the List, for addition of element at the desired position, insert() method is used. Unlike append() which takes only one argument, insert() method requires two arguments(position, value)."
   ]
  },
  {
   "cell_type": "code",
   "execution_count": 14,
   "metadata": {},
   "outputs": [
    {
     "name": "stdout",
     "output_type": "stream",
     "text": [
      "Initial List: \n",
      "[1, 2, 3, 4]\n",
      "\n",
      "List after performing Insert Operation: \n",
      "['Geeks', 1, 2, 3, 12, 4]\n"
     ]
    }
   ],
   "source": [
    "#Python program to demonstrate  \n",
    "# Addition of elements in a List \n",
    "   \n",
    "# Creating a List \n",
    "List = [1,2,3,4] \n",
    "print(\"Initial List: \") \n",
    "print(List) \n",
    "  \n",
    "# Addition of Element at  \n",
    "# specific Position \n",
    "# (using Insert Method) \n",
    "List.insert(3, 12) \n",
    "List.insert(0, 'Geeks') \n",
    "print(\"\\nList after performing Insert Operation: \") \n",
    "print(List) "
   ]
  },
  {
   "cell_type": "markdown",
   "metadata": {},
   "source": [
    "Using extend() method\n",
    "\n",
    "Other than append() and insert() methods, there’s one more method for Addition of elements, extend(), this method is used to add multiple elements at the same time at the end of the list.\n",
    "\n",
    "Note – append() and extend() methods can only add elements at the end."
   ]
  },
  {
   "cell_type": "code",
   "execution_count": 15,
   "metadata": {},
   "outputs": [
    {
     "name": "stdout",
     "output_type": "stream",
     "text": [
      "Initial List: \n",
      "[1, 2, 3, 4]\n",
      "\n",
      "List after performing Extend Operation: \n",
      "[1, 2, 3, 4, 8, 'Geeks', 'Always']\n"
     ]
    }
   ],
   "source": [
    "# Python program to demonstrate  \n",
    "# Addition of elements in a List \n",
    "    \n",
    "# Creating a List \n",
    "List = [1,2,3,4] \n",
    "print(\"Initial List: \") \n",
    "print(List) \n",
    "  \n",
    "# Addition of multiple elements \n",
    "# to the List at the end \n",
    "# (using Extend Method) \n",
    "List.extend([8, 'Geeks', 'Always']) \n",
    "print(\"\\nList after performing Extend Operation: \") \n",
    "print(List) "
   ]
  },
  {
   "cell_type": "markdown",
   "metadata": {},
   "source": [
    "# Accessing elements from the List"
   ]
  },
  {
   "cell_type": "markdown",
   "metadata": {},
   "source": [
    "In order to access the list items refer to the index number.Use the index operator [ ] to access an item in a list.The index must be an integer.Nested list are accessed using nested indexing."
   ]
  },
  {
   "cell_type": "code",
   "execution_count": 16,
   "metadata": {},
   "outputs": [],
   "source": [
    "# Python program to demonstrate  \n",
    "# accessing of element from list \n",
    "  \n",
    "# Creating a List with \n",
    "# the use of multiple values \n",
    "List = [\"Geeks\", \"For\", \"Geeks\"] "
   ]
  },
  {
   "cell_type": "code",
   "execution_count": 17,
   "metadata": {},
   "outputs": [
    {
     "name": "stdout",
     "output_type": "stream",
     "text": [
      "Accessing a element from the list\n",
      "Geeks\n",
      "Geeks\n"
     ]
    }
   ],
   "source": [
    "# accessing a element from the  \n",
    "# list using index number \n",
    "print(\"Accessing a element from the list\") \n",
    "print(List[0])  \n",
    "print(List[2]) \n",
    "  "
   ]
  },
  {
   "cell_type": "code",
   "execution_count": 18,
   "metadata": {},
   "outputs": [
    {
     "name": "stdout",
     "output_type": "stream",
     "text": [
      "Acessing a element from a Multi-Dimensional list\n",
      "For\n",
      "Geeks\n"
     ]
    }
   ],
   "source": [
    "# Creating a Multi-Dimensional List \n",
    "# (By Nesting a list inside a List) \n",
    "List = [['Geeks', 'For'] , ['Geeks']] \n",
    "  \n",
    "# accessing a element from the  \n",
    "# Multi-Dimensional List using \n",
    "# index number \n",
    "print(\"Acessing a element from a Multi-Dimensional list\") \n",
    "print(List[0][1]) \n",
    "print(List[1][0]) "
   ]
  },
  {
   "cell_type": "markdown",
   "metadata": {},
   "source": [
    "Removing Elements from the List\n",
    "\n",
    "Using remove() method\n",
    "Elements can be removed from the List by using built-in remove() function but an Error arises if element doesn’t exist in the set. Remove() method only removes one element at a time, to remove range of elements, iterator is used. The remove() method removes the specified item.\n",
    "\n",
    "Note – Remove method in List will only remove the first occurrence of the searched element."
   ]
  },
  {
   "cell_type": "code",
   "execution_count": 19,
   "metadata": {},
   "outputs": [
    {
     "name": "stdout",
     "output_type": "stream",
     "text": [
      "Intial List: \n",
      "[1, 2, 3, 4, 5, 6, 7, 8, 9, 10, 11, 12]\n"
     ]
    }
   ],
   "source": [
    "# Python program to demonstrate  \n",
    "# Removal of elements in a List \n",
    "  \n",
    "# Creating a List \n",
    "List = [1, 2, 3, 4, 5, 6,  \n",
    "        7, 8, 9, 10, 11, 12] \n",
    "print(\"Intial List: \") \n",
    "print(List) "
   ]
  },
  {
   "cell_type": "code",
   "execution_count": 20,
   "metadata": {},
   "outputs": [
    {
     "name": "stdout",
     "output_type": "stream",
     "text": [
      "\n",
      "List after Removal of two elements: \n",
      "[1, 2, 3, 4, 7, 8, 9, 10, 11, 12]\n"
     ]
    }
   ],
   "source": [
    "# Removing elements from List \n",
    "# using Remove() method \n",
    "List.remove(5) \n",
    "List.remove(6) \n",
    "print(\"\\nList after Removal of two elements: \") \n",
    "print(List) "
   ]
  },
  {
   "cell_type": "code",
   "execution_count": 21,
   "metadata": {},
   "outputs": [
    {
     "name": "stdout",
     "output_type": "stream",
     "text": [
      "\n",
      "List after Removing a range of elements: \n",
      "[7, 8, 9, 10, 11, 12]\n"
     ]
    }
   ],
   "source": [
    "# Removing elements from List \n",
    "# using iterator method \n",
    "for i in range(1, 5): \n",
    "    List.remove(i) \n",
    "print(\"\\nList after Removing a range of elements: \") \n",
    "print(List) "
   ]
  },
  {
   "cell_type": "markdown",
   "metadata": {},
   "source": [
    "Using pop() method\n",
    "\n",
    "Pop() function can also be used to remove and return an element from the set, but by default it removes only the last element of the set, to remove element from a specific position of the List, index of the element is passed as an argument to the pop() method"
   ]
  },
  {
   "cell_type": "code",
   "execution_count": 22,
   "metadata": {},
   "outputs": [
    {
     "name": "stdout",
     "output_type": "stream",
     "text": [
      "\n",
      "List after popping an element: \n",
      "[1, 2, 3, 4]\n"
     ]
    }
   ],
   "source": [
    "List = [1,2,3,4,5] \n",
    "  \n",
    "# Removing element from the  \n",
    "# Set using the pop() method \n",
    "List.pop() \n",
    "print(\"\\nList after popping an element: \") \n",
    "print(List) \n",
    "  "
   ]
  },
  {
   "cell_type": "code",
   "execution_count": 23,
   "metadata": {},
   "outputs": [
    {
     "name": "stdout",
     "output_type": "stream",
     "text": [
      "\n",
      "List after popping a specific element: \n",
      "[1, 2, 4]\n"
     ]
    }
   ],
   "source": [
    "# Removing element at a  \n",
    "# specific location from the  \n",
    "# Set using the pop() method \n",
    "List.pop(2) \n",
    "print(\"\\nList after popping a specific element: \") \n",
    "print(List) "
   ]
  },
  {
   "cell_type": "markdown",
   "metadata": {},
   "source": [
    "# Slicing Of a List\n",
    "In Python List, there are multiple ways to print the whole List with all the elements, but to print a specific range of elements from the list, we use Slice operation. Slice operation is performed on Lists with the use of colon(:). To print elements from beginning to a range use [:Index], to print elements from end use [:-Index], to print elements from specific Index till the end use [Index:], to print elements within a range, use [Start Index:End Index] and to print whole List with the use of slicing operation, use [:]. Further, to print whole List in reverse order, use [::-1].\n",
    "\n",
    "Note – To print elements of List from rear end, use Negative Indexes."
   ]
  },
  {
   "cell_type": "code",
   "execution_count": 24,
   "metadata": {},
   "outputs": [
    {
     "name": "stdout",
     "output_type": "stream",
     "text": [
      "Intial List: \n",
      "['G', 'E', 'E', 'K', 'S', 'F', 'O', 'R', 'G', 'E', 'E', 'K', 'S']\n"
     ]
    }
   ],
   "source": [
    "# Python program to demonstrate  \n",
    "# Removal of elements in a List \n",
    "  \n",
    "# Creating a List \n",
    "List = ['G','E','E','K','S','F', \n",
    "        'O','R','G','E','E','K','S'] \n",
    "print(\"Intial List: \") \n",
    "print(List) "
   ]
  },
  {
   "cell_type": "code",
   "execution_count": 25,
   "metadata": {},
   "outputs": [
    {
     "name": "stdout",
     "output_type": "stream",
     "text": [
      "\n",
      "Slicing elements in a range 3-8: \n",
      "['K', 'S', 'F', 'O', 'R']\n"
     ]
    }
   ],
   "source": [
    "# Print elements of a range \n",
    "# using Slice operation \n",
    "Sliced_List = List[3:8] \n",
    "print(\"\\nSlicing elements in a range 3-8: \") \n",
    "print(Sliced_List) "
   ]
  },
  {
   "cell_type": "code",
   "execution_count": 26,
   "metadata": {},
   "outputs": [
    {
     "name": "stdout",
     "output_type": "stream",
     "text": [
      "\n",
      "Elements sliced from 5th element till the end: \n",
      "['F', 'O', 'R', 'G', 'E', 'E', 'K', 'S']\n"
     ]
    }
   ],
   "source": [
    "# Print elements from a  \n",
    "# pre-defined point to end \n",
    "Sliced_List = List[5:] \n",
    "print(\"\\nElements sliced from 5th \"\n",
    "      \"element till the end: \") \n",
    "print(Sliced_List) "
   ]
  },
  {
   "cell_type": "code",
   "execution_count": 27,
   "metadata": {},
   "outputs": [
    {
     "name": "stdout",
     "output_type": "stream",
     "text": [
      "\n",
      "Printing all elements using slice operation: \n",
      "['G', 'E', 'E', 'K', 'S', 'F', 'O', 'R', 'G', 'E', 'E', 'K', 'S']\n"
     ]
    }
   ],
   "source": [
    "# Printing elements from \n",
    "# beginning till end \n",
    "Sliced_List = List[:] \n",
    "print(\"\\nPrinting all elements using slice operation: \") \n",
    "print(Sliced_List) "
   ]
  },
  {
   "cell_type": "code",
   "execution_count": 28,
   "metadata": {},
   "outputs": [
    {
     "name": "stdout",
     "output_type": "stream",
     "text": [
      "Initial List: \n",
      "['G', 'E', 'E', 'K', 'S', 'F', 'O', 'R', 'G', 'E', 'E', 'K', 'S']\n"
     ]
    }
   ],
   "source": [
    "# Negative index List slicing\n",
    "# Creating a List \n",
    "List = ['G','E','E','K','S','F', \n",
    "        'O','R','G','E','E','K','S'] \n",
    "print(\"Initial List: \") \n",
    "print(List) "
   ]
  },
  {
   "cell_type": "code",
   "execution_count": 29,
   "metadata": {},
   "outputs": [
    {
     "name": "stdout",
     "output_type": "stream",
     "text": [
      "\n",
      "Elements sliced till 6th element from last: \n",
      "['G', 'E', 'E', 'K', 'S', 'F', 'O']\n"
     ]
    }
   ],
   "source": [
    "# Print elements from beginning \n",
    "# to a pre-defined point using Slice \n",
    "Sliced_List = List[:-6] \n",
    "print(\"\\nElements sliced till 6th element from last: \") \n",
    "print(Sliced_List) \n",
    "  "
   ]
  },
  {
   "cell_type": "code",
   "execution_count": 30,
   "metadata": {},
   "outputs": [
    {
     "name": "stdout",
     "output_type": "stream",
     "text": [
      "\n",
      "Elements sliced from index -6 to -1\n",
      "['R', 'G', 'E', 'E', 'K']\n"
     ]
    }
   ],
   "source": [
    "# Print elements of a range \n",
    "# using negative index List slicing \n",
    "Sliced_List = List[-6:-1] \n",
    "print(\"\\nElements sliced from index -6 to -1\") \n",
    "print(Sliced_List) "
   ]
  },
  {
   "cell_type": "code",
   "execution_count": 31,
   "metadata": {},
   "outputs": [
    {
     "name": "stdout",
     "output_type": "stream",
     "text": [
      "\n",
      "Printing List in reverse: \n",
      "['S', 'K', 'E', 'E', 'G', 'R', 'O', 'F', 'S', 'K', 'E', 'E', 'G']\n"
     ]
    }
   ],
   "source": [
    "# Printing elements in reverse \n",
    "# using Slice operation \n",
    "Sliced_List = List[::-1] \n",
    "print(\"\\nPrinting List in reverse: \") \n",
    "print(Sliced_List)"
   ]
  },
  {
   "cell_type": "code",
   "execution_count": null,
   "metadata": {},
   "outputs": [],
   "source": []
  },
  {
   "cell_type": "code",
   "execution_count": null,
   "metadata": {},
   "outputs": [],
   "source": []
  },
  {
   "cell_type": "code",
   "execution_count": null,
   "metadata": {},
   "outputs": [],
   "source": []
  }
 ],
 "metadata": {
  "kernelspec": {
   "display_name": "Python 3",
   "language": "python",
   "name": "python3"
  },
  "language_info": {
   "codemirror_mode": {
    "name": "ipython",
    "version": 3
   },
   "file_extension": ".py",
   "mimetype": "text/x-python",
   "name": "python",
   "nbconvert_exporter": "python",
   "pygments_lexer": "ipython3",
   "version": "3.7.6"
  }
 },
 "nbformat": 4,
 "nbformat_minor": 4
}
